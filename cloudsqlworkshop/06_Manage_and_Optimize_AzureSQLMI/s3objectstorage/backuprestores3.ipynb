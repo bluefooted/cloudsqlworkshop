{
    "cells": [
        {
            "attachments": {},
            "cell_type": "markdown",
            "metadata": {
                "azdata_cell_guid": "0bb3163d-428c-4800-91df-f230db71a27f"
            },
            "source": [
                "# SQL Notebook for SQL Server 2022 backup and restore using S3 object storage\n",
                "\n",
                "This is a SQL notebook to show how to backup and restore SQL Server databases using S3 object storage."
            ]
        },
        {
            "attachments": {},
            "cell_type": "markdown",
            "metadata": {
                "azdata_cell_guid": "ddefea9d-db1a-49c4-86eb-0748ab35bfbb"
            },
            "source": [
                "# Prerequisites for the exercise\n",
                "\n",
                "- SQL Server 2022 Evaluation Edition with the Database Engine and PolyBase Query Service for External Data Feature installed. You can use the defaults in setup for Polybase.\n",
                "    \n",
                "- VM or computer with 2 CPUs and at least 8Gb RAM.\n",
                "    \n",
                "- SQL Server Management Studio (SSMS). The latest 18.x build or 19.x build will work.\n",
                "    \n",
                "    **Note**: The following pre-requisites are for non-Microsoft software. The use of this software does not represent any official endorsement from Microsoft. This software is not supported by Microsoft so any issues using this software are up to the user to resolve.\n",
                "    \n",
                "- The **minio** server for Windows which you can download at [https://min.io/download#/windows](https://min.io/download#/windows). For the demo I assume you have created a directory called c:\\\\minio and have downloaded the minio.exe for Windows into that directory.\n",
                "    \n",
                "- **openssl** for Windows which you can download at [https://slproweb.com/products/Win32OpenSSL.html](https://slproweb.com/products/Win32OpenSSL.html). I chose the Win64 OpenSSL v3.0.5 MSI option."
            ]
        },
        {
            "attachments": {},
            "cell_type": "markdown",
            "metadata": {
                "azdata_cell_guid": "836ee5ff-4bc0-43a3-bd1a-d0406fb43920"
            },
            "source": [
                "# Steps to setup minio for the exercise\n",
                "\n",
                "- Download minio.exe for Windows into c:\\minio.exe\n",
                "- Download the openssl for Windows MSI and run the installer. Use all the defaults.\n",
                "- Set a system environment variable OPENSSL_CONF=C:\\Program Files\\OpenSSL-Win64\\bin\\openssl.cfg and add to the system environment variable PATH c:\\Program Files\\OpenSSL-Win64\\bin\n",
                "- Generate a private key using the following command from the c:\\minio directory.\n",
                "\n",
                "    `openssl genrsa -out private.key 2048`\n",
                "\n",
                "- Copy the supplied openssl.conf to c:\\minio. Edit openssl.conf by changing IP.2 to your local IP address and DNS.2 to your local computer name.\n",
                "- From the c:\\minio directory run the following command to generate a self-signed certificate\n",
                "\n",
                "    `openssl req -new -x509 -nodes -days 730 -key private.key -out public.crt -config openssl.conf`\n",
                "\n",
                "- Double-click the public.crt file and select Install Certificate. Choose Local Machine, Place all certificates in the following store, Browse, and select Trusted Root Certification Authorities.\n",
                "- Copy the private.key and public.crt files from c:\\minio into %%USERPROFILE%%\\.minio\\certs."
            ]
        },
        {
            "attachments": {},
            "cell_type": "markdown",
            "metadata": {
                "azdata_cell_guid": "1dade6c2-1bd4-46f3-89e1-4e33bfc1463a"
            },
            "source": [
                "# Steps to use mino for the exercise\n",
                "\n",
                "From a command prompt at the c:\\\\minio directory start the minio server with the following command (example syntax for Powershell)\n",
                "\n",
                "`.\\minio.exe server c:\\minio --console-address \":9001\"`\n",
                "\n",
                "This program will startup and \"run forever\" until stopped with +. Your output should look similar to the following (the IP addresses will match your local IP):\n",
                "\n",
                "```\n",
                "MinIO Object Storage Server\n",
                "Copyright: 2015-2022 MinIO, Inc.\n",
                "License: GNU AGPLv3 <https://www.gnu.org/licenses/agpl-3.0.html>\n",
                "Version: RELEASE.2022-07-30T05-21-40Z (go1.18.4 windows/amd64)\n",
                "\n",
                "Status:         1 Online, 0 Offline.\n",
                "API: https://<local IP>:9000  https://127.0.0.1:9000\n",
                "RootUser: <user>\n",
                "RootPass: <password>\n",
                "Console: https://<local IP>:9001 https://127.0.0.1:9001\n",
                "RootUser: <user>\n",
                "RootPass: <password>\n",
                "\n",
                "Command-line: https://docs.min.io/docs/minio-client-quickstart-guide\n",
                "   $ mc.exe alias set myminio https://<local IP>:9000 <user> <password>\n",
                "``\n",
                "Documentation: https://docs.min.io\n",
                "\n",
                "```\n",
                "\n",
                "1. Test your connection and browse the minio storage system using a web browser. Use the address [https://127.0.0.1:9001](https://127.0.0.1:9001/). You should be presented with a login screen. Use the defaut root user and password which are displayed on the minio server screen.\n",
                "    \n",
                "2. On the left-hand side menu, click on Identity and Users. Select Create User. Create a user name with password. Select the readwrite policy for the user. This is the user and password you will use for the SECRET value in creates3creds.sql.\n",
                "    \n",
                "3. Select menu for Buckets. Select Create Bucket. Use a Bucket Name of **backups**. Leave all defaults and select Create Bucket."
            ]
        },
        {
            "attachments": {},
            "cell_type": "markdown",
            "metadata": {
                "azdata_cell_guid": "dc120f75-6e7d-4036-bb17-866c77775b12"
            },
            "source": [
                "# Steps to use SQL Server 2022 for the exercise\n",
                "\n",
                "Run each cell one at time to use SQL Server 2022 for the exercise"
            ]
        },
        {
            "attachments": {},
            "cell_type": "markdown",
            "metadata": {
                "azdata_cell_guid": "d73758b3-a24e-48cf-98a3-b6929248b2a6"
            },
            "source": [
                "## Step 1 - Get WideWorldImporters\n",
                "\n",
                "Copy the **WideWorldImporters** sample database from [https://aka.ms/WideWorldImporters](https://aka.ms/WideWorldImporters) to a local directory (The restore script assumes **c:\\\\sql\\_sample\\_databases**)"
            ]
        },
        {
            "attachments": {},
            "cell_type": "markdown",
            "metadata": {
                "azdata_cell_guid": "97162546-8954-46c8-b7f2-06f125895a2b"
            },
            "source": [
                "## Step 2 - Restore WideWorldImporters\n",
                "\n",
                "Edit the following T-SQL to restore the WideWorldImporters database for your correct files paths and execute the statement"
            ]
        },
        {
            "cell_type": "code",
            "execution_count": 4,
            "metadata": {
                "azdata_cell_guid": "3f19756e-6934-436c-a391-e73480205459",
                "language": "sql"
            },
            "outputs": [
                {
                    "data": {
                        "text/html": [
                            "Commands completed successfully."
                        ]
                    },
                    "metadata": {},
                    "output_type": "display_data"
                },
                {
                    "data": {
                        "text/html": [
                            "Commands completed successfully."
                        ]
                    },
                    "metadata": {},
                    "output_type": "display_data"
                },
                {
                    "data": {
                        "text/html": [
                            "5 percent processed."
                        ]
                    },
                    "metadata": {},
                    "output_type": "display_data"
                },
                {
                    "data": {
                        "text/html": [
                            "10 percent processed."
                        ]
                    },
                    "metadata": {},
                    "output_type": "display_data"
                },
                {
                    "data": {
                        "text/html": [
                            "15 percent processed."
                        ]
                    },
                    "metadata": {},
                    "output_type": "display_data"
                },
                {
                    "data": {
                        "text/html": [
                            "20 percent processed."
                        ]
                    },
                    "metadata": {},
                    "output_type": "display_data"
                },
                {
                    "data": {
                        "text/html": [
                            "25 percent processed."
                        ]
                    },
                    "metadata": {},
                    "output_type": "display_data"
                },
                {
                    "data": {
                        "text/html": [
                            "30 percent processed."
                        ]
                    },
                    "metadata": {},
                    "output_type": "display_data"
                },
                {
                    "data": {
                        "text/html": [
                            "Processed 1464 pages for database 'WideWorldImporters', file 'WWI_Primary' on file 1."
                        ]
                    },
                    "metadata": {},
                    "output_type": "display_data"
                },
                {
                    "data": {
                        "text/html": [
                            "Processed 53096 pages for database 'WideWorldImporters', file 'WWI_UserData' on file 1."
                        ]
                    },
                    "metadata": {},
                    "output_type": "display_data"
                },
                {
                    "data": {
                        "text/html": [
                            "Processed 33 pages for database 'WideWorldImporters', file 'WWI_Log' on file 1."
                        ]
                    },
                    "metadata": {},
                    "output_type": "display_data"
                },
                {
                    "data": {
                        "text/html": [
                            "Processed 3862 pages for database 'WideWorldImporters', file 'WWI_InMemory_Data_1' on file 1."
                        ]
                    },
                    "metadata": {},
                    "output_type": "display_data"
                },
                {
                    "data": {
                        "text/html": [
                            "Converting database 'WideWorldImporters' from version 852 to the current version 955."
                        ]
                    },
                    "metadata": {},
                    "output_type": "display_data"
                },
                {
                    "data": {
                        "text/html": [
                            "Database 'WideWorldImporters' running the upgrade step from version 852 to version 853."
                        ]
                    },
                    "metadata": {},
                    "output_type": "display_data"
                },
                {
                    "data": {
                        "text/html": [
                            "Database 'WideWorldImporters' running the upgrade step from version 853 to version 854."
                        ]
                    },
                    "metadata": {},
                    "output_type": "display_data"
                },
                {
                    "data": {
                        "text/html": [
                            "Database 'WideWorldImporters' running the upgrade step from version 854 to version 855."
                        ]
                    },
                    "metadata": {},
                    "output_type": "display_data"
                },
                {
                    "data": {
                        "text/html": [
                            "Database 'WideWorldImporters' running the upgrade step from version 855 to version 856."
                        ]
                    },
                    "metadata": {},
                    "output_type": "display_data"
                },
                {
                    "data": {
                        "text/html": [
                            "Database 'WideWorldImporters' running the upgrade step from version 856 to version 857."
                        ]
                    },
                    "metadata": {},
                    "output_type": "display_data"
                },
                {
                    "data": {
                        "text/html": [
                            "Database 'WideWorldImporters' running the upgrade step from version 857 to version 858."
                        ]
                    },
                    "metadata": {},
                    "output_type": "display_data"
                },
                {
                    "data": {
                        "text/html": [
                            "Database 'WideWorldImporters' running the upgrade step from version 858 to version 859."
                        ]
                    },
                    "metadata": {},
                    "output_type": "display_data"
                },
                {
                    "data": {
                        "text/html": [
                            "Database 'WideWorldImporters' running the upgrade step from version 859 to version 860."
                        ]
                    },
                    "metadata": {},
                    "output_type": "display_data"
                },
                {
                    "data": {
                        "text/html": [
                            "Database 'WideWorldImporters' running the upgrade step from version 860 to version 861."
                        ]
                    },
                    "metadata": {},
                    "output_type": "display_data"
                },
                {
                    "data": {
                        "text/html": [
                            "Database 'WideWorldImporters' running the upgrade step from version 861 to version 862."
                        ]
                    },
                    "metadata": {},
                    "output_type": "display_data"
                },
                {
                    "data": {
                        "text/html": [
                            "Database 'WideWorldImporters' running the upgrade step from version 862 to version 863."
                        ]
                    },
                    "metadata": {},
                    "output_type": "display_data"
                },
                {
                    "data": {
                        "text/html": [
                            "Database 'WideWorldImporters' running the upgrade step from version 863 to version 864."
                        ]
                    },
                    "metadata": {},
                    "output_type": "display_data"
                },
                {
                    "data": {
                        "text/html": [
                            "Database 'WideWorldImporters' running the upgrade step from version 864 to version 865."
                        ]
                    },
                    "metadata": {},
                    "output_type": "display_data"
                },
                {
                    "data": {
                        "text/html": [
                            "Database 'WideWorldImporters' running the upgrade step from version 865 to version 866."
                        ]
                    },
                    "metadata": {},
                    "output_type": "display_data"
                },
                {
                    "data": {
                        "text/html": [
                            "Database 'WideWorldImporters' running the upgrade step from version 866 to version 867."
                        ]
                    },
                    "metadata": {},
                    "output_type": "display_data"
                },
                {
                    "data": {
                        "text/html": [
                            "Database 'WideWorldImporters' running the upgrade step from version 867 to version 868."
                        ]
                    },
                    "metadata": {},
                    "output_type": "display_data"
                },
                {
                    "data": {
                        "text/html": [
                            "Database 'WideWorldImporters' running the upgrade step from version 868 to version 869."
                        ]
                    },
                    "metadata": {},
                    "output_type": "display_data"
                },
                {
                    "data": {
                        "text/html": [
                            "Database 'WideWorldImporters' running the upgrade step from version 869 to version 875."
                        ]
                    },
                    "metadata": {},
                    "output_type": "display_data"
                },
                {
                    "data": {
                        "text/html": [
                            "Database 'WideWorldImporters' running the upgrade step from version 875 to version 876."
                        ]
                    },
                    "metadata": {},
                    "output_type": "display_data"
                },
                {
                    "data": {
                        "text/html": [
                            "Database 'WideWorldImporters' running the upgrade step from version 876 to version 877."
                        ]
                    },
                    "metadata": {},
                    "output_type": "display_data"
                },
                {
                    "data": {
                        "text/html": [
                            "Database 'WideWorldImporters' running the upgrade step from version 877 to version 878."
                        ]
                    },
                    "metadata": {},
                    "output_type": "display_data"
                },
                {
                    "data": {
                        "text/html": [
                            "Database 'WideWorldImporters' running the upgrade step from version 878 to version 879."
                        ]
                    },
                    "metadata": {},
                    "output_type": "display_data"
                },
                {
                    "data": {
                        "text/html": [
                            "Database 'WideWorldImporters' running the upgrade step from version 879 to version 880."
                        ]
                    },
                    "metadata": {},
                    "output_type": "display_data"
                },
                {
                    "data": {
                        "text/html": [
                            "Database 'WideWorldImporters' running the upgrade step from version 880 to version 881."
                        ]
                    },
                    "metadata": {},
                    "output_type": "display_data"
                },
                {
                    "data": {
                        "text/html": [
                            "Database 'WideWorldImporters' running the upgrade step from version 881 to version 882."
                        ]
                    },
                    "metadata": {},
                    "output_type": "display_data"
                },
                {
                    "data": {
                        "text/html": [
                            "Database 'WideWorldImporters' running the upgrade step from version 882 to version 883."
                        ]
                    },
                    "metadata": {},
                    "output_type": "display_data"
                },
                {
                    "data": {
                        "text/html": [
                            "Database 'WideWorldImporters' running the upgrade step from version 883 to version 884."
                        ]
                    },
                    "metadata": {},
                    "output_type": "display_data"
                },
                {
                    "data": {
                        "text/html": [
                            "Database 'WideWorldImporters' running the upgrade step from version 884 to version 885."
                        ]
                    },
                    "metadata": {},
                    "output_type": "display_data"
                },
                {
                    "data": {
                        "text/html": [
                            "Database 'WideWorldImporters' running the upgrade step from version 885 to version 886."
                        ]
                    },
                    "metadata": {},
                    "output_type": "display_data"
                },
                {
                    "data": {
                        "text/html": [
                            "Database 'WideWorldImporters' running the upgrade step from version 886 to version 887."
                        ]
                    },
                    "metadata": {},
                    "output_type": "display_data"
                },
                {
                    "data": {
                        "text/html": [
                            "Database 'WideWorldImporters' running the upgrade step from version 887 to version 888."
                        ]
                    },
                    "metadata": {},
                    "output_type": "display_data"
                },
                {
                    "data": {
                        "text/html": [
                            "Database 'WideWorldImporters' running the upgrade step from version 888 to version 889."
                        ]
                    },
                    "metadata": {},
                    "output_type": "display_data"
                },
                {
                    "data": {
                        "text/html": [
                            "Database 'WideWorldImporters' running the upgrade step from version 889 to version 890."
                        ]
                    },
                    "metadata": {},
                    "output_type": "display_data"
                },
                {
                    "data": {
                        "text/html": [
                            "Database 'WideWorldImporters' running the upgrade step from version 890 to version 891."
                        ]
                    },
                    "metadata": {},
                    "output_type": "display_data"
                },
                {
                    "data": {
                        "text/html": [
                            "Database 'WideWorldImporters' running the upgrade step from version 891 to version 892."
                        ]
                    },
                    "metadata": {},
                    "output_type": "display_data"
                },
                {
                    "data": {
                        "text/html": [
                            "Database 'WideWorldImporters' running the upgrade step from version 892 to version 893."
                        ]
                    },
                    "metadata": {},
                    "output_type": "display_data"
                },
                {
                    "data": {
                        "text/html": [
                            "Database 'WideWorldImporters' running the upgrade step from version 893 to version 894."
                        ]
                    },
                    "metadata": {},
                    "output_type": "display_data"
                },
                {
                    "data": {
                        "text/html": [
                            "Database 'WideWorldImporters' running the upgrade step from version 894 to version 895."
                        ]
                    },
                    "metadata": {},
                    "output_type": "display_data"
                },
                {
                    "data": {
                        "text/html": [
                            "Database 'WideWorldImporters' running the upgrade step from version 895 to version 896."
                        ]
                    },
                    "metadata": {},
                    "output_type": "display_data"
                },
                {
                    "data": {
                        "text/html": [
                            "Database 'WideWorldImporters' running the upgrade step from version 896 to version 897."
                        ]
                    },
                    "metadata": {},
                    "output_type": "display_data"
                },
                {
                    "data": {
                        "text/html": [
                            "Database 'WideWorldImporters' running the upgrade step from version 897 to version 898."
                        ]
                    },
                    "metadata": {},
                    "output_type": "display_data"
                },
                {
                    "data": {
                        "text/html": [
                            "Database 'WideWorldImporters' running the upgrade step from version 898 to version 899."
                        ]
                    },
                    "metadata": {},
                    "output_type": "display_data"
                },
                {
                    "data": {
                        "text/html": [
                            "Database 'WideWorldImporters' running the upgrade step from version 899 to version 900."
                        ]
                    },
                    "metadata": {},
                    "output_type": "display_data"
                },
                {
                    "data": {
                        "text/html": [
                            "Database 'WideWorldImporters' running the upgrade step from version 900 to version 901."
                        ]
                    },
                    "metadata": {},
                    "output_type": "display_data"
                },
                {
                    "data": {
                        "text/html": [
                            "Database 'WideWorldImporters' running the upgrade step from version 901 to version 902."
                        ]
                    },
                    "metadata": {},
                    "output_type": "display_data"
                },
                {
                    "data": {
                        "text/html": [
                            "Database 'WideWorldImporters' running the upgrade step from version 902 to version 903."
                        ]
                    },
                    "metadata": {},
                    "output_type": "display_data"
                },
                {
                    "data": {
                        "text/html": [
                            "Database 'WideWorldImporters' running the upgrade step from version 903 to version 904."
                        ]
                    },
                    "metadata": {},
                    "output_type": "display_data"
                },
                {
                    "data": {
                        "text/html": [
                            "Database 'WideWorldImporters' running the upgrade step from version 904 to version 905."
                        ]
                    },
                    "metadata": {},
                    "output_type": "display_data"
                },
                {
                    "data": {
                        "text/html": [
                            "Database 'WideWorldImporters' running the upgrade step from version 905 to version 906."
                        ]
                    },
                    "metadata": {},
                    "output_type": "display_data"
                },
                {
                    "data": {
                        "text/html": [
                            "Database 'WideWorldImporters' running the upgrade step from version 906 to version 907."
                        ]
                    },
                    "metadata": {},
                    "output_type": "display_data"
                },
                {
                    "data": {
                        "text/html": [
                            "Database 'WideWorldImporters' running the upgrade step from version 907 to version 908."
                        ]
                    },
                    "metadata": {},
                    "output_type": "display_data"
                },
                {
                    "data": {
                        "text/html": [
                            "Database 'WideWorldImporters' running the upgrade step from version 908 to version 909."
                        ]
                    },
                    "metadata": {},
                    "output_type": "display_data"
                },
                {
                    "data": {
                        "text/html": [
                            "Database 'WideWorldImporters' running the upgrade step from version 909 to version 910."
                        ]
                    },
                    "metadata": {},
                    "output_type": "display_data"
                },
                {
                    "data": {
                        "text/html": [
                            "Database 'WideWorldImporters' running the upgrade step from version 910 to version 911."
                        ]
                    },
                    "metadata": {},
                    "output_type": "display_data"
                },
                {
                    "data": {
                        "text/html": [
                            "Database 'WideWorldImporters' running the upgrade step from version 911 to version 912."
                        ]
                    },
                    "metadata": {},
                    "output_type": "display_data"
                },
                {
                    "data": {
                        "text/html": [
                            "Database 'WideWorldImporters' running the upgrade step from version 912 to version 913."
                        ]
                    },
                    "metadata": {},
                    "output_type": "display_data"
                },
                {
                    "data": {
                        "text/html": [
                            "Database 'WideWorldImporters' running the upgrade step from version 913 to version 914."
                        ]
                    },
                    "metadata": {},
                    "output_type": "display_data"
                },
                {
                    "data": {
                        "text/html": [
                            "Database 'WideWorldImporters' running the upgrade step from version 914 to version 915."
                        ]
                    },
                    "metadata": {},
                    "output_type": "display_data"
                },
                {
                    "data": {
                        "text/html": [
                            "Database 'WideWorldImporters' running the upgrade step from version 915 to version 916."
                        ]
                    },
                    "metadata": {},
                    "output_type": "display_data"
                },
                {
                    "data": {
                        "text/html": [
                            "Database 'WideWorldImporters' running the upgrade step from version 916 to version 917."
                        ]
                    },
                    "metadata": {},
                    "output_type": "display_data"
                },
                {
                    "data": {
                        "text/html": [
                            "Database 'WideWorldImporters' running the upgrade step from version 917 to version 918."
                        ]
                    },
                    "metadata": {},
                    "output_type": "display_data"
                },
                {
                    "data": {
                        "text/html": [
                            "Database 'WideWorldImporters' running the upgrade step from version 918 to version 919."
                        ]
                    },
                    "metadata": {},
                    "output_type": "display_data"
                },
                {
                    "data": {
                        "text/html": [
                            "Database 'WideWorldImporters' running the upgrade step from version 919 to version 920."
                        ]
                    },
                    "metadata": {},
                    "output_type": "display_data"
                },
                {
                    "data": {
                        "text/html": [
                            "Database 'WideWorldImporters' running the upgrade step from version 920 to version 921."
                        ]
                    },
                    "metadata": {},
                    "output_type": "display_data"
                },
                {
                    "data": {
                        "text/html": [
                            "Database 'WideWorldImporters' running the upgrade step from version 921 to version 922."
                        ]
                    },
                    "metadata": {},
                    "output_type": "display_data"
                },
                {
                    "data": {
                        "text/html": [
                            "Database 'WideWorldImporters' running the upgrade step from version 922 to version 923."
                        ]
                    },
                    "metadata": {},
                    "output_type": "display_data"
                },
                {
                    "data": {
                        "text/html": [
                            "Database 'WideWorldImporters' running the upgrade step from version 923 to version 924."
                        ]
                    },
                    "metadata": {},
                    "output_type": "display_data"
                },
                {
                    "data": {
                        "text/html": [
                            "Database 'WideWorldImporters' running the upgrade step from version 924 to version 925."
                        ]
                    },
                    "metadata": {},
                    "output_type": "display_data"
                },
                {
                    "data": {
                        "text/html": [
                            "Database 'WideWorldImporters' running the upgrade step from version 925 to version 926."
                        ]
                    },
                    "metadata": {},
                    "output_type": "display_data"
                },
                {
                    "data": {
                        "text/html": [
                            "Database 'WideWorldImporters' running the upgrade step from version 926 to version 927."
                        ]
                    },
                    "metadata": {},
                    "output_type": "display_data"
                },
                {
                    "data": {
                        "text/html": [
                            "Database 'WideWorldImporters' running the upgrade step from version 927 to version 928."
                        ]
                    },
                    "metadata": {},
                    "output_type": "display_data"
                },
                {
                    "data": {
                        "text/html": [
                            "Database 'WideWorldImporters' running the upgrade step from version 928 to version 929."
                        ]
                    },
                    "metadata": {},
                    "output_type": "display_data"
                },
                {
                    "data": {
                        "text/html": [
                            "Database 'WideWorldImporters' running the upgrade step from version 929 to version 930."
                        ]
                    },
                    "metadata": {},
                    "output_type": "display_data"
                },
                {
                    "data": {
                        "text/html": [
                            "Database 'WideWorldImporters' running the upgrade step from version 930 to version 931."
                        ]
                    },
                    "metadata": {},
                    "output_type": "display_data"
                },
                {
                    "data": {
                        "text/html": [
                            "Database 'WideWorldImporters' running the upgrade step from version 931 to version 932."
                        ]
                    },
                    "metadata": {},
                    "output_type": "display_data"
                },
                {
                    "data": {
                        "text/html": [
                            "Database 'WideWorldImporters' running the upgrade step from version 932 to version 933."
                        ]
                    },
                    "metadata": {},
                    "output_type": "display_data"
                },
                {
                    "data": {
                        "text/html": [
                            "Database 'WideWorldImporters' running the upgrade step from version 933 to version 934."
                        ]
                    },
                    "metadata": {},
                    "output_type": "display_data"
                },
                {
                    "data": {
                        "text/html": [
                            "Database 'WideWorldImporters' running the upgrade step from version 934 to version 935."
                        ]
                    },
                    "metadata": {},
                    "output_type": "display_data"
                },
                {
                    "data": {
                        "text/html": [
                            "Database 'WideWorldImporters' running the upgrade step from version 935 to version 936."
                        ]
                    },
                    "metadata": {},
                    "output_type": "display_data"
                },
                {
                    "data": {
                        "text/html": [
                            "Database 'WideWorldImporters' running the upgrade step from version 936 to version 937."
                        ]
                    },
                    "metadata": {},
                    "output_type": "display_data"
                },
                {
                    "data": {
                        "text/html": [
                            "Database 'WideWorldImporters' running the upgrade step from version 937 to version 938."
                        ]
                    },
                    "metadata": {},
                    "output_type": "display_data"
                },
                {
                    "data": {
                        "text/html": [
                            "Database 'WideWorldImporters' running the upgrade step from version 938 to version 939."
                        ]
                    },
                    "metadata": {},
                    "output_type": "display_data"
                },
                {
                    "data": {
                        "text/html": [
                            "Database 'WideWorldImporters' running the upgrade step from version 939 to version 940."
                        ]
                    },
                    "metadata": {},
                    "output_type": "display_data"
                },
                {
                    "data": {
                        "text/html": [
                            "Database 'WideWorldImporters' running the upgrade step from version 940 to version 941."
                        ]
                    },
                    "metadata": {},
                    "output_type": "display_data"
                },
                {
                    "data": {
                        "text/html": [
                            "Database 'WideWorldImporters' running the upgrade step from version 941 to version 942."
                        ]
                    },
                    "metadata": {},
                    "output_type": "display_data"
                },
                {
                    "data": {
                        "text/html": [
                            "Database 'WideWorldImporters' running the upgrade step from version 942 to version 943."
                        ]
                    },
                    "metadata": {},
                    "output_type": "display_data"
                },
                {
                    "data": {
                        "text/html": [
                            "Database 'WideWorldImporters' running the upgrade step from version 943 to version 944."
                        ]
                    },
                    "metadata": {},
                    "output_type": "display_data"
                },
                {
                    "data": {
                        "text/html": [
                            "Database 'WideWorldImporters' running the upgrade step from version 944 to version 945."
                        ]
                    },
                    "metadata": {},
                    "output_type": "display_data"
                },
                {
                    "data": {
                        "text/html": [
                            "Database 'WideWorldImporters' running the upgrade step from version 945 to version 946."
                        ]
                    },
                    "metadata": {},
                    "output_type": "display_data"
                },
                {
                    "data": {
                        "text/html": [
                            "Database 'WideWorldImporters' running the upgrade step from version 946 to version 947."
                        ]
                    },
                    "metadata": {},
                    "output_type": "display_data"
                },
                {
                    "data": {
                        "text/html": [
                            "Database 'WideWorldImporters' running the upgrade step from version 947 to version 948."
                        ]
                    },
                    "metadata": {},
                    "output_type": "display_data"
                },
                {
                    "data": {
                        "text/html": [
                            "Database 'WideWorldImporters' running the upgrade step from version 948 to version 949."
                        ]
                    },
                    "metadata": {},
                    "output_type": "display_data"
                },
                {
                    "data": {
                        "text/html": [
                            "Database 'WideWorldImporters' running the upgrade step from version 949 to version 950."
                        ]
                    },
                    "metadata": {},
                    "output_type": "display_data"
                },
                {
                    "data": {
                        "text/html": [
                            "Database 'WideWorldImporters' running the upgrade step from version 950 to version 951."
                        ]
                    },
                    "metadata": {},
                    "output_type": "display_data"
                },
                {
                    "data": {
                        "text/html": [
                            "Database 'WideWorldImporters' running the upgrade step from version 951 to version 952."
                        ]
                    },
                    "metadata": {},
                    "output_type": "display_data"
                },
                {
                    "data": {
                        "text/html": [
                            "Database 'WideWorldImporters' running the upgrade step from version 952 to version 953."
                        ]
                    },
                    "metadata": {},
                    "output_type": "display_data"
                },
                {
                    "data": {
                        "text/html": [
                            "Database 'WideWorldImporters' running the upgrade step from version 953 to version 954."
                        ]
                    },
                    "metadata": {},
                    "output_type": "display_data"
                },
                {
                    "data": {
                        "text/html": [
                            "Database 'WideWorldImporters' running the upgrade step from version 954 to version 955."
                        ]
                    },
                    "metadata": {},
                    "output_type": "display_data"
                },
                {
                    "data": {
                        "text/html": [
                            "100 percent processed."
                        ]
                    },
                    "metadata": {},
                    "output_type": "display_data"
                },
                {
                    "data": {
                        "text/html": [
                            "RESTORE DATABASE successfully processed 58455 pages in 1.801 seconds (253.567 MB/sec)."
                        ]
                    },
                    "metadata": {},
                    "output_type": "display_data"
                },
                {
                    "data": {
                        "text/html": [
                            "Commands completed successfully."
                        ]
                    },
                    "metadata": {},
                    "output_type": "display_data"
                },
                {
                    "data": {
                        "text/html": [
                            "Total execution time: 00:00:07.326"
                        ]
                    },
                    "metadata": {},
                    "output_type": "display_data"
                }
            ],
            "source": [
                "USE master;\n",
                "GO\n",
                "DROP DATABASE IF EXISTS WideWorldImporters;\n",
                "GO\n",
                "RESTORE DATABASE WideWorldImporters FROM DISK = 'c:\\sql_sample_databases\\WideWorldImporters-Full.bak' with\n",
                "MOVE 'WWI_Primary' TO 'c:\\sql_sample_databases\\WideWorldImporters.mdf',\n",
                "MOVE 'WWI_UserData' TO 'c:\\sql_sample_databases\\WideWorldImporters_UserData.ndf',\n",
                "MOVE 'WWI_Log' TO 'c:\\sql_sample_databases\\WideWorldImporters.ldf',\n",
                "MOVE 'WWI_InMemory_Data_1' TO 'c:\\sql_sample_databases\\WideWorldImporters_InMemory_Data_1',\n",
                "stats=5;\n",
                "GO\n",
                "ALTER DATABASE WideWorldImporters SET QUERY_STORE CLEAR ALL;\n",
                "GO"
            ]
        },
        {
            "attachments": {},
            "cell_type": "markdown",
            "metadata": {
                "azdata_cell_guid": "6c120a5b-2c56-456e-b7e6-f588adc63a70",
                "language": "sql"
            },
            "source": [
                "# Step 3 - Storage credential\n",
                "\n",
                "Create a credential against the s3 storage target"
            ]
        },
        {
            "cell_type": "code",
            "execution_count": 2,
            "metadata": {
                "azdata_cell_guid": "790907e4-e779-42cb-86ef-a1e3e4603f5b",
                "language": "sql",
                "tags": []
            },
            "outputs": [
                {
                    "data": {
                        "text/html": [
                            "Commands completed successfully."
                        ]
                    },
                    "metadata": {},
                    "output_type": "display_data"
                },
                {
                    "data": {
                        "text/html": [
                            "Commands completed successfully."
                        ]
                    },
                    "metadata": {},
                    "output_type": "display_data"
                },
                {
                    "data": {
                        "text/html": [
                            "Commands completed successfully."
                        ]
                    },
                    "metadata": {},
                    "output_type": "display_data"
                },
                {
                    "data": {
                        "text/html": [
                            "Total execution time: 00:00:00.049"
                        ]
                    },
                    "metadata": {},
                    "output_type": "display_data"
                }
            ],
            "source": [
                "USE MASTER\n",
                "GO\n",
                "IF EXISTS (SELECT * FROM sys.credentials WHERE name = 's3://<local IP>:9000/backups')\n",
                "\tDROP CREDENTIAL [s3://<local IP>:9000/backups];\n",
                "GO\n",
                "CREATE CREDENTIAL [s3://<local IP>:9000/backups]\n",
                "WITH IDENTITY = 'S3 Access Key',\n",
                "SECRET = '<user>:<password>';\n",
                "GO"
            ]
        },
        {
            "attachments": {},
            "cell_type": "markdown",
            "metadata": {
                "azdata_cell_guid": "63a15819-328e-49c9-8ad5-6a8aa383e948",
                "language": "sql"
            },
            "source": [
                "# Step 4 - Backup to S3\n",
                "\n",
                "Execute various types of backups against S3"
            ]
        },
        {
            "cell_type": "code",
            "execution_count": 5,
            "metadata": {
                "azdata_cell_guid": "539fbad0-b1d7-488c-bab2-2cda2dd4e505",
                "language": "sql"
            },
            "outputs": [
                {
                    "data": {
                        "text/html": [
                            "Commands completed successfully."
                        ]
                    },
                    "metadata": {},
                    "output_type": "display_data"
                },
                {
                    "data": {
                        "text/html": [
                            "Commands completed successfully."
                        ]
                    },
                    "metadata": {},
                    "output_type": "display_data"
                },
                {
                    "data": {
                        "text/html": [
                            "Processed 1328 pages for database 'WideWorldImporters', file 'WWI_Primary' on file 1."
                        ]
                    },
                    "metadata": {},
                    "output_type": "display_data"
                },
                {
                    "data": {
                        "text/html": [
                            "Processed 53104 pages for database 'WideWorldImporters', file 'WWI_UserData' on file 1."
                        ]
                    },
                    "metadata": {},
                    "output_type": "display_data"
                },
                {
                    "data": {
                        "text/html": [
                            "Processed 0 pages for database 'WideWorldImporters', file 'WWI_InMemory_Data_1' on file 1."
                        ]
                    },
                    "metadata": {},
                    "output_type": "display_data"
                },
                {
                    "data": {
                        "text/html": [
                            "Processed 677 pages for database 'WideWorldImporters', file 'WWI_Log' on file 1."
                        ]
                    },
                    "metadata": {},
                    "output_type": "display_data"
                },
                {
                    "data": {
                        "text/html": [
                            "BACKUP DATABASE successfully processed 55109 pages in 6.722 seconds (64.048 MB/sec)."
                        ]
                    },
                    "metadata": {},
                    "output_type": "display_data"
                },
                {
                    "data": {
                        "text/html": [
                            "Processed 56 pages for database 'WideWorldImporters', file 'WWI_Primary' on file 1."
                        ]
                    },
                    "metadata": {},
                    "output_type": "display_data"
                },
                {
                    "data": {
                        "text/html": [
                            "Processed 16 pages for database 'WideWorldImporters', file 'WWI_UserData' on file 1."
                        ]
                    },
                    "metadata": {},
                    "output_type": "display_data"
                },
                {
                    "data": {
                        "text/html": [
                            "Processed 0 pages for database 'WideWorldImporters', file 'WWI_InMemory_Data_1' on file 1."
                        ]
                    },
                    "metadata": {},
                    "output_type": "display_data"
                },
                {
                    "data": {
                        "text/html": [
                            "Processed 684 pages for database 'WideWorldImporters', file 'WWI_Log' on file 1."
                        ]
                    },
                    "metadata": {},
                    "output_type": "display_data"
                },
                {
                    "data": {
                        "text/html": [
                            "BACKUP DATABASE WITH DIFFERENTIAL successfully processed 756 pages in 1.102 seconds (5.356 MB/sec)."
                        ]
                    },
                    "metadata": {},
                    "output_type": "display_data"
                },
                {
                    "data": {
                        "text/html": [
                            "Processed 61 pages for database 'WideWorldImporters', file 'WWI_Log' on file 1."
                        ]
                    },
                    "metadata": {},
                    "output_type": "display_data"
                },
                {
                    "data": {
                        "text/html": [
                            "BACKUP LOG successfully processed 61 pages in 0.177 seconds (2.670 MB/sec)."
                        ]
                    },
                    "metadata": {},
                    "output_type": "display_data"
                },
                {
                    "data": {
                        "text/html": [
                            "Processed 53096 pages for database 'WideWorldImporters', file 'WWI_UserData' on file 1."
                        ]
                    },
                    "metadata": {},
                    "output_type": "display_data"
                },
                {
                    "data": {
                        "text/html": [
                            "Processed 689 pages for database 'WideWorldImporters', file 'WWI_Log' on file 1."
                        ]
                    },
                    "metadata": {},
                    "output_type": "display_data"
                },
                {
                    "data": {
                        "text/html": [
                            "BACKUP DATABASE...FILE=<name> successfully processed 53785 pages in 6.152 seconds (68.301 MB/sec)."
                        ]
                    },
                    "metadata": {},
                    "output_type": "display_data"
                },
                {
                    "data": {
                        "text/html": [
                            "Total execution time: 00:00:14.353"
                        ]
                    },
                    "metadata": {},
                    "output_type": "display_data"
                }
            ],
            "source": [
                "USE MASTER;\n",
                "GO\n",
                "ALTER DATABASE WideWorldImporters SET RECOVERY FULL;\n",
                "GO\n",
                "BACKUP DATABASE WideWorldImporters\n",
                "TO URL = 's3://<local IP>:9000/backups/wwi.bak'\n",
                "WITH CHECKSUM, INIT, FORMAT;\n",
                "GO\n",
                "BACKUP DATABASE WideWorldImporters\n",
                "TO URL = 's3://<local IP>:9000/backups/wwidiff.bak'\n",
                "WITH CHECKSUM, INIT, FORMAT, DIFFERENTIAL\n",
                "GO\n",
                "BACKUP LOG WideWorldImporters\n",
                "TO URL = 's3://<local IP>:9000/backups/wwilog.bak'\n",
                "WITH CHECKSUM, INIT, FORMAT\n",
                "GO\n",
                "BACKUP DATABASE WideWorldImporters\n",
                "FILE = 'WWI_UserData'\n",
                "TO URL = 's3://<local IP>:9000/backups/wwiuserdatafile.bak'\n",
                "WITH CHECKSUM, INIT, FORMAT;\n",
                "GO"
            ]
        },
        {
            "attachments": {},
            "cell_type": "markdown",
            "metadata": {
                "azdata_cell_guid": "6dbd063d-3ff8-4ca5-9919-f9947daa2b0e",
                "language": "sql"
            },
            "source": [
                "# Step 5 - Browse backup files in S3\n",
                "\n",
                "Use the minio console to browse the backup files created in the backups bucket in s3"
            ]
        },
        {
            "attachments": {},
            "cell_type": "markdown",
            "metadata": {
                "azdata_cell_guid": "03022b9e-8dca-4c02-b80b-d2f50c7c3765",
                "language": "sql"
            },
            "source": [
                "# Step 6 - Restore the backup\n",
                "\n",
                "Executed the following RESTORE options to look at the full backup file and restore the backup to a new database name"
            ]
        },
        {
            "cell_type": "code",
            "execution_count": 6,
            "metadata": {
                "azdata_cell_guid": "25ab0863-878a-4670-85fe-06b56a7eee76",
                "language": "sql",
                "tags": []
            },
            "outputs": [
                {
                    "data": {
                        "text/html": [
                            "Commands completed successfully."
                        ]
                    },
                    "metadata": {},
                    "output_type": "display_data"
                },
                {
                    "data": {
                        "text/html": [
                            "The backup set on file 1 is valid."
                        ]
                    },
                    "metadata": {},
                    "output_type": "display_data"
                },
                {
                    "data": {
                        "text/html": [
                            "(1 row affected)"
                        ]
                    },
                    "metadata": {},
                    "output_type": "display_data"
                },
                {
                    "data": {
                        "text/html": [
                            "(4 rows affected)"
                        ]
                    },
                    "metadata": {},
                    "output_type": "display_data"
                },
                {
                    "data": {
                        "text/html": [
                            "Commands completed successfully."
                        ]
                    },
                    "metadata": {},
                    "output_type": "display_data"
                },
                {
                    "data": {
                        "text/html": [
                            "Processed 1328 pages for database 'WideWorldImporters2', file 'WWI_Primary' on file 1."
                        ]
                    },
                    "metadata": {},
                    "output_type": "display_data"
                },
                {
                    "data": {
                        "text/html": [
                            "Processed 53104 pages for database 'WideWorldImporters2', file 'WWI_UserData' on file 1."
                        ]
                    },
                    "metadata": {},
                    "output_type": "display_data"
                },
                {
                    "data": {
                        "text/html": [
                            "Processed 677 pages for database 'WideWorldImporters2', file 'WWI_Log' on file 1."
                        ]
                    },
                    "metadata": {},
                    "output_type": "display_data"
                },
                {
                    "data": {
                        "text/html": [
                            "Processed 3865 pages for database 'WideWorldImporters2', file 'WWI_InMemory_Data_1' on file 1."
                        ]
                    },
                    "metadata": {},
                    "output_type": "display_data"
                },
                {
                    "data": {
                        "text/html": [
                            "RESTORE DATABASE successfully processed 58974 pages in 1.696 seconds (271.657 MB/sec)."
                        ]
                    },
                    "metadata": {},
                    "output_type": "display_data"
                },
                {
                    "data": {
                        "text/html": [
                            "Total execution time: 00:00:07.553"
                        ]
                    },
                    "metadata": {},
                    "output_type": "display_data"
                },
                {
                    "data": {
                        "application/vnd.dataresource+json": {
                            "data": [
                                {
                                    "0": "NULL",
                                    "1": "NULL",
                                    "2": "1",
                                    "3": "NULL",
                                    "4": "0",
                                    "5": "1",
                                    "6": "9",
                                    "7": "BW-SQL2022\\Administrator",
                                    "8": "bw-sql2022",
                                    "9": "WideWorldImporters",
                                    "10": "955",
                                    "11": "2022-08-03 19:50:39.000",
                                    "12": "519838720",
                                    "13": "626000002505600002",
                                    "14": "627000001042400001",
                                    "15": "627000001040000001",
                                    "16": "627000001012800001",
                                    "17": "2022-08-04 17:10:51.000",
                                    "18": "2022-08-04 17:10:57.000",
                                    "19": "0",
                                    "20": "0",
                                    "21": "1033",
                                    "22": "196609",
                                    "23": "130",
                                    "24": "4608",
                                    "25": "16",
                                    "26": "0",
                                    "27": "700",
                                    "28": "BW-SQL2022",
                                    "29": "528",
                                    "30": "e373cfd3-775b-489e-a3ad-9dd737e1c86a",
                                    "31": "918cdbdd-e60c-4db5-b57e-bab507756b31",
                                    "32": "Latin1_General_100_CI_AS",
                                    "33": "1cc0a00a-1361-463f-b195-df7642a9754e",
                                    "34": "0",
                                    "35": "0",
                                    "36": "0",
                                    "37": "0",
                                    "38": "1",
                                    "39": "0",
                                    "40": "0",
                                    "41": "0",
                                    "42": "0",
                                    "43": "0",
                                    "44": "918cdbdd-e60c-4db5-b57e-bab507756b31",
                                    "45": "NULL",
                                    "46": "FULL",
                                    "47": "NULL",
                                    "48": "NULL",
                                    "49": "Database",
                                    "50": "72ed30fa-af45-469f-91a6-b218c6fddbe5",
                                    "51": "519838720",
                                    "52": "0",
                                    "53": "NULL",
                                    "54": "NULL",
                                    "55": "NULL",
                                    "56": "NULL",
                                    "57": "1",
                                    "58": "NULL"
                                }
                            ],
                            "schema": {
                                "fields": [
                                    {
                                        "name": "BackupName"
                                    },
                                    {
                                        "name": "BackupDescription"
                                    },
                                    {
                                        "name": "BackupType"
                                    },
                                    {
                                        "name": "ExpirationDate"
                                    },
                                    {
                                        "name": "Compressed"
                                    },
                                    {
                                        "name": "Position"
                                    },
                                    {
                                        "name": "DeviceType"
                                    },
                                    {
                                        "name": "UserName"
                                    },
                                    {
                                        "name": "ServerName"
                                    },
                                    {
                                        "name": "DatabaseName"
                                    },
                                    {
                                        "name": "DatabaseVersion"
                                    },
                                    {
                                        "name": "DatabaseCreationDate"
                                    },
                                    {
                                        "name": "BackupSize"
                                    },
                                    {
                                        "name": "FirstLSN"
                                    },
                                    {
                                        "name": "LastLSN"
                                    },
                                    {
                                        "name": "CheckpointLSN"
                                    },
                                    {
                                        "name": "DatabaseBackupLSN"
                                    },
                                    {
                                        "name": "BackupStartDate"
                                    },
                                    {
                                        "name": "BackupFinishDate"
                                    },
                                    {
                                        "name": "SortOrder"
                                    },
                                    {
                                        "name": "CodePage"
                                    },
                                    {
                                        "name": "UnicodeLocaleId"
                                    },
                                    {
                                        "name": "UnicodeComparisonStyle"
                                    },
                                    {
                                        "name": "CompatibilityLevel"
                                    },
                                    {
                                        "name": "SoftwareVendorId"
                                    },
                                    {
                                        "name": "SoftwareVersionMajor"
                                    },
                                    {
                                        "name": "SoftwareVersionMinor"
                                    },
                                    {
                                        "name": "SoftwareVersionBuild"
                                    },
                                    {
                                        "name": "MachineName"
                                    },
                                    {
                                        "name": "Flags"
                                    },
                                    {
                                        "name": "BindingID"
                                    },
                                    {
                                        "name": "RecoveryForkID"
                                    },
                                    {
                                        "name": "Collation"
                                    },
                                    {
                                        "name": "FamilyGUID"
                                    },
                                    {
                                        "name": "HasBulkLoggedData"
                                    },
                                    {
                                        "name": "IsSnapshot"
                                    },
                                    {
                                        "name": "IsReadOnly"
                                    },
                                    {
                                        "name": "IsSingleUser"
                                    },
                                    {
                                        "name": "HasBackupChecksums"
                                    },
                                    {
                                        "name": "IsDamaged"
                                    },
                                    {
                                        "name": "BeginsLogChain"
                                    },
                                    {
                                        "name": "HasIncompleteMetaData"
                                    },
                                    {
                                        "name": "IsForceOffline"
                                    },
                                    {
                                        "name": "IsCopyOnly"
                                    },
                                    {
                                        "name": "FirstRecoveryForkID"
                                    },
                                    {
                                        "name": "ForkPointLSN"
                                    },
                                    {
                                        "name": "RecoveryModel"
                                    },
                                    {
                                        "name": "DifferentialBaseLSN"
                                    },
                                    {
                                        "name": "DifferentialBaseGUID"
                                    },
                                    {
                                        "name": "BackupTypeDescription"
                                    },
                                    {
                                        "name": "BackupSetGUID"
                                    },
                                    {
                                        "name": "CompressedBackupSize"
                                    },
                                    {
                                        "name": "Containment"
                                    },
                                    {
                                        "name": "KeyAlgorithm"
                                    },
                                    {
                                        "name": "EncryptorThumbprint"
                                    },
                                    {
                                        "name": "EncryptorType"
                                    },
                                    {
                                        "name": "LastValidRestoreTime"
                                    },
                                    {
                                        "name": "TimeZone"
                                    },
                                    {
                                        "name": "CompressionAlgorithm"
                                    }
                                ]
                            }
                        },
                        "text/html": [
                            "<table><tr><th>BackupName</th><th>BackupDescription</th><th>BackupType</th><th>ExpirationDate</th><th>Compressed</th><th>Position</th><th>DeviceType</th><th>UserName</th><th>ServerName</th><th>DatabaseName</th><th>DatabaseVersion</th><th>DatabaseCreationDate</th><th>BackupSize</th><th>FirstLSN</th><th>LastLSN</th><th>CheckpointLSN</th><th>DatabaseBackupLSN</th><th>BackupStartDate</th><th>BackupFinishDate</th><th>SortOrder</th><th>CodePage</th><th>UnicodeLocaleId</th><th>UnicodeComparisonStyle</th><th>CompatibilityLevel</th><th>SoftwareVendorId</th><th>SoftwareVersionMajor</th><th>SoftwareVersionMinor</th><th>SoftwareVersionBuild</th><th>MachineName</th><th>Flags</th><th>BindingID</th><th>RecoveryForkID</th><th>Collation</th><th>FamilyGUID</th><th>HasBulkLoggedData</th><th>IsSnapshot</th><th>IsReadOnly</th><th>IsSingleUser</th><th>HasBackupChecksums</th><th>IsDamaged</th><th>BeginsLogChain</th><th>HasIncompleteMetaData</th><th>IsForceOffline</th><th>IsCopyOnly</th><th>FirstRecoveryForkID</th><th>ForkPointLSN</th><th>RecoveryModel</th><th>DifferentialBaseLSN</th><th>DifferentialBaseGUID</th><th>BackupTypeDescription</th><th>BackupSetGUID</th><th>CompressedBackupSize</th><th>Containment</th><th>KeyAlgorithm</th><th>EncryptorThumbprint</th><th>EncryptorType</th><th>LastValidRestoreTime</th><th>TimeZone</th><th>CompressionAlgorithm</th></tr><tr><td>NULL</td><td>NULL</td><td>1</td><td>NULL</td><td>0</td><td>1</td><td>9</td><td>BW-SQL2022\\Administrator</td><td>bw-sql2022</td><td>WideWorldImporters</td><td>955</td><td>2022-08-03 19:50:39.000</td><td>519838720</td><td>626000002505600002</td><td>627000001042400001</td><td>627000001040000001</td><td>627000001012800001</td><td>2022-08-04 17:10:51.000</td><td>2022-08-04 17:10:57.000</td><td>0</td><td>0</td><td>1033</td><td>196609</td><td>130</td><td>4608</td><td>16</td><td>0</td><td>700</td><td>BW-SQL2022</td><td>528</td><td>e373cfd3-775b-489e-a3ad-9dd737e1c86a</td><td>918cdbdd-e60c-4db5-b57e-bab507756b31</td><td>Latin1_General_100_CI_AS</td><td>1cc0a00a-1361-463f-b195-df7642a9754e</td><td>0</td><td>0</td><td>0</td><td>0</td><td>1</td><td>0</td><td>0</td><td>0</td><td>0</td><td>0</td><td>918cdbdd-e60c-4db5-b57e-bab507756b31</td><td>NULL</td><td>FULL</td><td>NULL</td><td>NULL</td><td>Database</td><td>72ed30fa-af45-469f-91a6-b218c6fddbe5</td><td>519838720</td><td>0</td><td>NULL</td><td>NULL</td><td>NULL</td><td>NULL</td><td>1</td><td>NULL</td></tr></table>"
                        ]
                    },
                    "execution_count": 6,
                    "metadata": {},
                    "output_type": "execute_result"
                },
                {
                    "data": {
                        "application/vnd.dataresource+json": {
                            "data": [
                                {
                                    "0": "WWI_Primary",
                                    "1": "c:\\sql_sample_databases\\WideWorldImporters.mdf",
                                    "2": "D",
                                    "3": "PRIMARY",
                                    "4": "1073741824",
                                    "5": "35184372080640",
                                    "6": "1",
                                    "7": "0",
                                    "8": "0",
                                    "9": "8d30f4f9-a463-404f-805a-9bd1c634b66b",
                                    "10": "0",
                                    "11": "0",
                                    "12": "10747904",
                                    "13": "4096",
                                    "14": "1",
                                    "15": "NULL",
                                    "16": "627000001012800001",
                                    "17": "51e9fd64-0ed0-480b-98a2-e9c5a36280b9",
                                    "18": "0",
                                    "19": "1",
                                    "20": "NULL",
                                    "21": "NULL"
                                },
                                {
                                    "0": "WWI_UserData",
                                    "1": "c:\\sql_sample_databases\\WideWorldImporters_UserData.ndf",
                                    "2": "D",
                                    "3": "USERDATA",
                                    "4": "2147483648",
                                    "5": "35184372080640",
                                    "6": "3",
                                    "7": "37000000095200001",
                                    "8": "0",
                                    "9": "28d406e0-78ff-4400-9a4b-3a05d136b1f3",
                                    "10": "0",
                                    "11": "0",
                                    "12": "434962432",
                                    "13": "4096",
                                    "14": "2",
                                    "15": "NULL",
                                    "16": "627000001028000034",
                                    "17": "75e38a5c-9adb-4f7d-9f93-2d4cd9a71c7b",
                                    "18": "0",
                                    "19": "1",
                                    "20": "NULL",
                                    "21": "NULL"
                                },
                                {
                                    "0": "WWI_Log",
                                    "1": "c:\\sql_sample_databases\\WideWorldImporters.ldf",
                                    "2": "L",
                                    "3": "NULL",
                                    "4": "104857600",
                                    "5": "2199023255552",
                                    "6": "2",
                                    "7": "0",
                                    "8": "0",
                                    "9": "6ac6807e-8774-415b-8efc-e8c569b0855e",
                                    "10": "0",
                                    "11": "0",
                                    "12": "0",
                                    "13": "4096",
                                    "14": "0",
                                    "15": "NULL",
                                    "16": "0",
                                    "17": "00000000-0000-0000-0000-000000000000",
                                    "18": "0",
                                    "19": "1",
                                    "20": "NULL",
                                    "21": "NULL"
                                },
                                {
                                    "0": "WWI_InMemory_Data_1",
                                    "1": "c:\\sql_sample_databases\\WideWorldImporters_InMemory_Data_1",
                                    "2": "S",
                                    "3": "WWI_InMemory_Data",
                                    "4": "0",
                                    "5": "0",
                                    "6": "65537",
                                    "7": "624000000336200003",
                                    "8": "0",
                                    "9": "f65663c8-a250-433e-bbe6-e13a5599a607",
                                    "10": "0",
                                    "11": "0",
                                    "12": "200671232",
                                    "13": "4096",
                                    "14": "3",
                                    "15": "NULL",
                                    "16": "627000001012800001",
                                    "17": "51e9fd64-0ed0-480b-98a2-e9c5a36280b9",
                                    "18": "0",
                                    "19": "1",
                                    "20": "NULL",
                                    "21": "NULL"
                                }
                            ],
                            "schema": {
                                "fields": [
                                    {
                                        "name": "LogicalName"
                                    },
                                    {
                                        "name": "PhysicalName"
                                    },
                                    {
                                        "name": "Type"
                                    },
                                    {
                                        "name": "FileGroupName"
                                    },
                                    {
                                        "name": "Size"
                                    },
                                    {
                                        "name": "MaxSize"
                                    },
                                    {
                                        "name": "FileId"
                                    },
                                    {
                                        "name": "CreateLSN"
                                    },
                                    {
                                        "name": "DropLSN"
                                    },
                                    {
                                        "name": "UniqueId"
                                    },
                                    {
                                        "name": "ReadOnlyLSN"
                                    },
                                    {
                                        "name": "ReadWriteLSN"
                                    },
                                    {
                                        "name": "BackupSizeInBytes"
                                    },
                                    {
                                        "name": "SourceBlockSize"
                                    },
                                    {
                                        "name": "FileGroupId"
                                    },
                                    {
                                        "name": "LogGroupGUID"
                                    },
                                    {
                                        "name": "DifferentialBaseLSN"
                                    },
                                    {
                                        "name": "DifferentialBaseGUID"
                                    },
                                    {
                                        "name": "IsReadOnly"
                                    },
                                    {
                                        "name": "IsPresent"
                                    },
                                    {
                                        "name": "TDEThumbprint"
                                    },
                                    {
                                        "name": "SnapshotUrl"
                                    }
                                ]
                            }
                        },
                        "text/html": [
                            "<table><tr><th>LogicalName</th><th>PhysicalName</th><th>Type</th><th>FileGroupName</th><th>Size</th><th>MaxSize</th><th>FileId</th><th>CreateLSN</th><th>DropLSN</th><th>UniqueId</th><th>ReadOnlyLSN</th><th>ReadWriteLSN</th><th>BackupSizeInBytes</th><th>SourceBlockSize</th><th>FileGroupId</th><th>LogGroupGUID</th><th>DifferentialBaseLSN</th><th>DifferentialBaseGUID</th><th>IsReadOnly</th><th>IsPresent</th><th>TDEThumbprint</th><th>SnapshotUrl</th></tr><tr><td>WWI_Primary</td><td>c:\\sql_sample_databases\\WideWorldImporters.mdf</td><td>D</td><td>PRIMARY</td><td>1073741824</td><td>35184372080640</td><td>1</td><td>0</td><td>0</td><td>8d30f4f9-a463-404f-805a-9bd1c634b66b</td><td>0</td><td>0</td><td>10747904</td><td>4096</td><td>1</td><td>NULL</td><td>627000001012800001</td><td>51e9fd64-0ed0-480b-98a2-e9c5a36280b9</td><td>0</td><td>1</td><td>NULL</td><td>NULL</td></tr><tr><td>WWI_UserData</td><td>c:\\sql_sample_databases\\WideWorldImporters_UserData.ndf</td><td>D</td><td>USERDATA</td><td>2147483648</td><td>35184372080640</td><td>3</td><td>37000000095200001</td><td>0</td><td>28d406e0-78ff-4400-9a4b-3a05d136b1f3</td><td>0</td><td>0</td><td>434962432</td><td>4096</td><td>2</td><td>NULL</td><td>627000001028000034</td><td>75e38a5c-9adb-4f7d-9f93-2d4cd9a71c7b</td><td>0</td><td>1</td><td>NULL</td><td>NULL</td></tr><tr><td>WWI_Log</td><td>c:\\sql_sample_databases\\WideWorldImporters.ldf</td><td>L</td><td>NULL</td><td>104857600</td><td>2199023255552</td><td>2</td><td>0</td><td>0</td><td>6ac6807e-8774-415b-8efc-e8c569b0855e</td><td>0</td><td>0</td><td>0</td><td>4096</td><td>0</td><td>NULL</td><td>0</td><td>00000000-0000-0000-0000-000000000000</td><td>0</td><td>1</td><td>NULL</td><td>NULL</td></tr><tr><td>WWI_InMemory_Data_1</td><td>c:\\sql_sample_databases\\WideWorldImporters_InMemory_Data_1</td><td>S</td><td>WWI_InMemory_Data</td><td>0</td><td>0</td><td>65537</td><td>624000000336200003</td><td>0</td><td>f65663c8-a250-433e-bbe6-e13a5599a607</td><td>0</td><td>0</td><td>200671232</td><td>4096</td><td>3</td><td>NULL</td><td>627000001012800001</td><td>51e9fd64-0ed0-480b-98a2-e9c5a36280b9</td><td>0</td><td>1</td><td>NULL</td><td>NULL</td></tr></table>"
                        ]
                    },
                    "execution_count": 6,
                    "metadata": {},
                    "output_type": "execute_result"
                }
            ],
            "source": [
                "USE MASTER;\n",
                "GO\n",
                "RESTORE VERIFYONLY FROM URL = 's3://<local IP>:9000/backups/wwi.bak';\n",
                "GO\n",
                "RESTORE HEADERONLY FROM URL = 's3://<local IP>:9000/backups/wwi.bak';\n",
                "GO\n",
                "RESTORE FILELISTONLY FROM URL = 's3://<local IP>:9000/backups/wwi.bak';\n",
                "GO\n",
                "DROP DATABASE IF EXISTS WideWorldImporters2;\n",
                "GO\n",
                "RESTORE DATABASE WideWorldImporters2 \n",
                "FROM URL = 's3://<local IP>:9000/backups/wwi.bak'\n",
                "WITH MOVE 'WWI_Primary' TO 'c:\\sql_sample_databases\\WideWorldImporters2.mdf',\n",
                "MOVE 'WWI_UserData' TO 'c:\\sql_sample_databases\\WideWorldImporters2_UserData.ndf',\n",
                "MOVE 'WWI_Log' TO 'c:\\sql_sample_databases\\WideWorldImporters2.ldf',\n",
                "MOVE 'WWI_InMemory_Data_1' TO 'c:\\sql_sample_databases\\WideWorldImporters2_InMemory_Data_1';\n",
                "GO"
            ]
        },
        {
            "attachments": {},
            "cell_type": "markdown",
            "metadata": {
                "azdata_cell_guid": "a9631875-1686-49e2-b560-7d68b714e864",
                "language": "sql"
            },
            "source": [
                "# Step 7 - Browse backup and restore metadata\n",
                "\n",
                "Browse the standard msdb system tables such as **backupset,** **backupmediafamily**, and **restorehistory**"
            ]
        }
    ],
    "metadata": {
        "kernelspec": {
            "display_name": "SQL",
            "language": "sql",
            "name": "SQL"
        },
        "language_info": {
            "name": "sql",
            "version": ""
        }
    },
    "nbformat": 4,
    "nbformat_minor": 2
}
